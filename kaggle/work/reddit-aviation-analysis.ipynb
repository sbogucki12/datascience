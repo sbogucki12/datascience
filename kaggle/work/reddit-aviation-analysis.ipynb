{
 "cells": [
  {
   "cell_type": "code",
   "execution_count": 2,
   "metadata": {},
   "outputs": [
    {
     "ename": "ModuleNotFoundError",
     "evalue": "No module named 'dotenv'",
     "output_type": "error",
     "traceback": [
      "\u001b[1;31m---------------------------------------------------------------------------\u001b[0m",
      "\u001b[1;31mModuleNotFoundError\u001b[0m                       Traceback (most recent call last)",
      "Input \u001b[1;32mIn [2]\u001b[0m, in \u001b[0;36m<cell line: 3>\u001b[1;34m()\u001b[0m\n\u001b[0;32m      1\u001b[0m \u001b[38;5;28;01mimport\u001b[39;00m \u001b[38;5;21;01mpraw\u001b[39;00m\n\u001b[0;32m      2\u001b[0m \u001b[38;5;28;01mimport\u001b[39;00m \u001b[38;5;21;01mpandas\u001b[39;00m \u001b[38;5;28;01mas\u001b[39;00m \u001b[38;5;21;01mpd\u001b[39;00m\n\u001b[1;32m----> 3\u001b[0m \u001b[38;5;28;01mfrom\u001b[39;00m \u001b[38;5;21;01mdotenv\u001b[39;00m \u001b[38;5;28;01mimport\u001b[39;00m load_dotenv\n\u001b[0;32m      4\u001b[0m \u001b[38;5;28;01mimport\u001b[39;00m \u001b[38;5;21;01mos\u001b[39;00m\n\u001b[0;32m      6\u001b[0m \u001b[38;5;66;03m# Load environment variables from .env file\u001b[39;00m\n",
      "\u001b[1;31mModuleNotFoundError\u001b[0m: No module named 'dotenv'"
     ]
    }
   ],
   "source": [
    "import praw\n",
    "import pandas as pd\n",
    "from dotenv import load_dotenv\n",
    "import os\n",
    "\n",
    "# Load environment variables from .env file\n",
    "load_dotenv()\n",
    "\n",
    "client_id = os.getenv('CLIENT_ID')\n",
    "client_secret = os.getenv('CLIENT_SECRET')\n",
    "user_agent = os.getenv('USER_AGENT')\n",
    "\n",
    "\n",
    "# Initialize PRAW with your credentials\n",
    "reddit = praw.Reddit(client_id=client_id,\n",
    "                     client_secret=client_secret,\n",
    "                     user_agent=user_agent)\n",
    "\n",
    "hot_posts = reddit.subreddit('aviation').hot(limit=10)\n",
    "for post in hot_posts:\n",
    "     print(post.title)"
   ]
  },
  {
   "cell_type": "code",
   "execution_count": 3,
   "metadata": {},
   "outputs": [
    {
     "name": "stdout",
     "output_type": "stream",
     "text": [
      "Collecting python-dotenv\n",
      "  Using cached python_dotenv-1.0.1-py3-none-any.whl.metadata (23 kB)\n",
      "Using cached python_dotenv-1.0.1-py3-none-any.whl (19 kB)\n",
      "Installing collected packages: python-dotenv\n",
      "Successfully installed python-dotenv-1.0.1\n",
      "Note: you may need to restart the kernel to use updated packages.\n"
     ]
    }
   ],
   "source": [
    "%pip install python-dotenv"
   ]
  },
  {
   "cell_type": "code",
   "execution_count": 1,
   "metadata": {},
   "outputs": [
    {
     "name": "stdout",
     "output_type": "stream",
     "text": [
      "A C-17 reversing on the runway\n",
      "F.A.A. Investigating How Counterfeit Titanium Got Into Boeing and Airbus Jets\n",
      "Joke I saw today \n",
      "F-35B hover demo over the Baltimore Inner Harbor\n",
      "Boeing’s Urgent Mission: Training Thousands of Rookies to Safely Build an Airplane\n",
      "The sheer scale of the Airbus A350 nose gear assembly\n",
      "Husband changed engine in his rv-7\n",
      "F-35 VTOL directly over my house\n",
      "Kai Tak madness in Hong Kong.\n",
      "Boys and girls gliding for the first time...\n"
     ]
    }
   ],
   "source": [
    "import praw\n",
    "import pandas as pd\n",
    "from dotenv import load_dotenv\n",
    "import os\n",
    "\n",
    "# Load environment variables from .env file\n",
    "load_dotenv()\n",
    "\n",
    "client_id = os.getenv('CLIENT_ID')\n",
    "client_secret = os.getenv('CLIENT_SECRET')\n",
    "user_agent = os.getenv('USER_AGENT')\n",
    "\n",
    "\n",
    "# Initialize PRAW with your credentials\n",
    "reddit = praw.Reddit(client_id=client_id,\n",
    "                     client_secret=client_secret,\n",
    "                     user_agent=user_agent)\n",
    "\n",
    "hot_posts = reddit.subreddit('aviation').hot(limit=10)\n",
    "for post in hot_posts:\n",
    "     print(post.title)"
   ]
  },
  {
   "cell_type": "code",
   "execution_count": 2,
   "metadata": {},
   "outputs": [
    {
     "name": "stdout",
     "output_type": "stream",
     "text": [
      "                                               title  score      id subreddit  \\\n",
      "0                        Long Live The Ghost Of Kyiv  70306  t0qa78  aviation   \n",
      "1  It's not duct tape, it's speed tape that's $40...  52454  xmzzfi  aviation   \n",
      "2                         Landing: Air Force vs Navy  47425  sd7vdq  aviation   \n",
      "3   F-35B crash and 0-0 ejection at Fort Worth today  46801  zmtn80  aviation   \n",
      "4    Aborted landing due to strong winds at Heathrow  44936  shxv6z  aviation   \n",
      "\n",
      "                                   url  num_comments selftext  \\\n",
      "0  https://i.redd.it/affzspv0mvj81.jpg          1967            \n",
      "1      https://v.redd.it/uzjwtgs9lup91          1633            \n",
      "2      https://v.redd.it/ansi7mtsq1e81          2131            \n",
      "3      https://v.redd.it/w3jjyl4i446a1          3340            \n",
      "4      https://v.redd.it/q53lm9aer8f81          1659            \n",
      "\n",
      "              created  \n",
      "0 2022-02-25 00:45:47  \n",
      "1 2022-09-24 18:16:17  \n",
      "2 2022-01-26 14:59:12  \n",
      "3 2022-12-15 19:25:38  \n",
      "4 2022-02-01 15:39:41  \n"
     ]
    }
   ],
   "source": [
    "# Define the subreddit and the number of posts to fetch\n",
    "subreddit_name = 'aviation'\n",
    "post_limit = 1000  # Adjust as needed\n",
    "\n",
    "# Fetch posts from the subreddit\n",
    "subreddit = reddit.subreddit(subreddit_name)\n",
    "posts = []\n",
    "\n",
    "for post in subreddit.top(limit=post_limit):\n",
    "    posts.append([post.title, post.score, post.id, post.subreddit, post.url, post.num_comments, post.selftext, post.created])\n",
    "\n",
    "# Create a DataFrame\n",
    "posts_df = pd.DataFrame(posts, columns=['title', 'score', 'id', 'subreddit', 'url', 'num_comments', 'selftext', 'created'])\n",
    "\n",
    "# Convert the created column to datetime\n",
    "posts_df['created'] = pd.to_datetime(posts_df['created'], unit='s')\n",
    "\n",
    "# Display the DataFrame\n",
    "print(posts_df.head())"
   ]
  },
  {
   "cell_type": "code",
   "execution_count": null,
   "metadata": {},
   "outputs": [],
   "source": []
  }
 ],
 "metadata": {
  "kernelspec": {
   "display_name": "Python 3",
   "language": "python",
   "name": "python3"
  },
  "language_info": {
   "codemirror_mode": {
    "name": "ipython",
    "version": 3
   },
   "file_extension": ".py",
   "mimetype": "text/x-python",
   "name": "python",
   "nbconvert_exporter": "python",
   "pygments_lexer": "ipython3",
   "version": "3.10.4"
  }
 },
 "nbformat": 4,
 "nbformat_minor": 2
}
