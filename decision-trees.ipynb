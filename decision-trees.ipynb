{
 "cells": [
  {
   "attachments": {},
   "cell_type": "markdown",
   "metadata": {},
   "source": [
    "When building a tree, you want each partition to become “purer” (i.e., containing only data from a single class). If your partitions are pure, you can easily and confidently assign labels to new data points that lie within a partition. You use an impurity metric to measure a partition’s purity compared to other partitions. "
   ]
  },
  {
   "attachments": {},
   "cell_type": "markdown",
   "metadata": {},
   "source": [
    "Gini impurity:\n",
    "    0 == all labels are 0\n",
    "    .5 == half labels are 0, other half are 1\n",
    "    1 == all are one\n",
    "\n",
    "Impurity reaches a maximum value for a set of labels that are evenly split between all possible values.\n",
    "\n",
    "Intuitively, the impurity of a set of points is higher when the points have many different labels and lower when most points have the same label."
   ]
  },
  {
   "cell_type": "code",
   "execution_count": 1,
   "metadata": {},
   "outputs": [],
   "source": [
    "import numpy as np"
   ]
  },
  {
   "cell_type": "code",
   "execution_count": 8,
   "metadata": {},
   "outputs": [],
   "source": [
    "first_coefficient = 16/30\n",
    "negative_coefficient = -(first_coefficient)\n",
    "logBase2_of_first_coeefficient = np.log2(first_coefficient)\n",
    "first_term = negative_coefficient * logBase2_of_first_coeefficient\n",
    "\n",
    "second_coefficient = 14/30\n",
    "# negative_second_coefficient = -(second_coefficient)\n",
    "logBase2_of_second_coefficient = np.log2(second_coefficient)\n",
    "second_term = second_coefficient * logBase2_of_second_coefficient\n",
    "\n",
    "result = first_term - second_term"
   ]
  },
  {
   "cell_type": "code",
   "execution_count": 9,
   "metadata": {},
   "outputs": [
    {
     "data": {
      "text/plain": [
       "0.9967916319816366"
      ]
     },
     "execution_count": 9,
     "metadata": {},
     "output_type": "execute_result"
    }
   ],
   "source": [
    "result"
   ]
  },
  {
   "cell_type": "code",
   "execution_count": null,
   "metadata": {},
   "outputs": [],
   "source": []
  }
 ],
 "metadata": {
  "kernelspec": {
   "display_name": "Python 3",
   "language": "python",
   "name": "python3"
  },
  "language_info": {
   "codemirror_mode": {
    "name": "ipython",
    "version": 3
   },
   "file_extension": ".py",
   "mimetype": "text/x-python",
   "name": "python",
   "nbconvert_exporter": "python",
   "pygments_lexer": "ipython3",
   "version": "3.10.4"
  },
  "orig_nbformat": 4
 },
 "nbformat": 4,
 "nbformat_minor": 2
}
