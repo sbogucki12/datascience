{
 "cells": [
  {
   "attachments": {},
   "cell_type": "markdown",
   "metadata": {},
   "source": [
    "When building a tree, you want each partition to become “purer” (i.e., containing only data from a single class). If your partitions are pure, you can easily and confidently assign labels to new data points that lie within a partition. You use an impurity metric to measure a partition’s purity compared to other partitions. "
   ]
  },
  {
   "attachments": {},
   "cell_type": "markdown",
   "metadata": {},
   "source": [
    "Gini impurity:\n",
    "    0 == all labels are 0\n",
    "    .5 == half labels are 0, other half are 1\n",
    "    1 == all are one\n",
    "\n",
    "Impurity reaches a maximum value for a set of labels that are evenly split between all possible values.\n",
    "\n",
    "Intuitively, the impurity of a set of points is higher when the points have many different labels and lower when most points have the same label."
   ]
  },
  {
   "cell_type": "code",
   "execution_count": 1,
   "metadata": {},
   "outputs": [],
   "source": [
    "import numpy as np"
   ]
  },
  {
   "cell_type": "code",
   "execution_count": 11,
   "metadata": {},
   "outputs": [],
   "source": [
    "def getEntropy(prob1, prob2):\n",
    "    '''\n",
    "        Returns the entropy of a binary variable with two possible outcomes.\n",
    "    '''\n",
    "    first_coefficient = prob1\n",
    "    negative_coefficient = -(first_coefficient)\n",
    "    logBase2_of_first_coeefficient = np.log2(first_coefficient)\n",
    "    first_term = negative_coefficient * logBase2_of_first_coeefficient\n",
    "\n",
    "    second_coefficient = prob2\n",
    "    # negative_second_coefficient = -(second_coefficient)\n",
    "    logBase2_of_second_coefficient = np.log2(second_coefficient)\n",
    "    second_term = second_coefficient * logBase2_of_second_coefficient\n",
    "\n",
    "    result = first_term - second_term\n",
    "\n",
    "    return result"
   ]
  },
  {
   "cell_type": "code",
   "execution_count": 25,
   "metadata": {},
   "outputs": [],
   "source": [
    "rootEntropy = getEntropy(16/30, 14/30)"
   ]
  },
  {
   "cell_type": "code",
   "execution_count": 13,
   "metadata": {},
   "outputs": [],
   "source": [
    "balanceGreaterThan50k = getEntropy(12/13, 1/13)"
   ]
  },
  {
   "cell_type": "code",
   "execution_count": 14,
   "metadata": {},
   "outputs": [
    {
     "data": {
      "text/plain": [
       "0.39124356362925566"
      ]
     },
     "execution_count": 14,
     "metadata": {},
     "output_type": "execute_result"
    }
   ],
   "source": [
    "balanceGreaterThan50k"
   ]
  },
  {
   "cell_type": "code",
   "execution_count": 16,
   "metadata": {},
   "outputs": [],
   "source": [
    "balanceGreaterThanOrEqualTo50k = getEntropy(4/17, 13/17)"
   ]
  },
  {
   "cell_type": "code",
   "execution_count": 17,
   "metadata": {},
   "outputs": [
    {
     "data": {
      "text/plain": [
       "0.7871265862012691"
      ]
     },
     "execution_count": 17,
     "metadata": {},
     "output_type": "execute_result"
    }
   ],
   "source": [
    "balanceGreaterThanOrEqualTo50k"
   ]
  },
  {
   "cell_type": "code",
   "execution_count": 28,
   "metadata": {},
   "outputs": [],
   "source": [
    "# labels are whether individuals are likely to pay off a debt or not\n",
    "# features are the balance of the individual's account and whether they rent or own their residence\n",
    "# splitting on balance < 50k reduces the entropy by 0.38121435556157335\n",
    "\n",
    "entropy = (13/30) * balanceGreaterThan50k + (17/30) * balanceGreaterThanOrEqualTo50k"
   ]
  },
  {
   "cell_type": "code",
   "execution_count": 23,
   "metadata": {},
   "outputs": [
    {
     "data": {
      "text/plain": [
       "0.6155772764200632"
      ]
     },
     "execution_count": 23,
     "metadata": {},
     "output_type": "execute_result"
    }
   ],
   "source": [
    "entropy"
   ]
  },
  {
   "cell_type": "code",
   "execution_count": 26,
   "metadata": {},
   "outputs": [],
   "source": [
    "entropyReduction = rootEntropy - entropy"
   ]
  },
  {
   "cell_type": "code",
   "execution_count": 27,
   "metadata": {},
   "outputs": [
    {
     "data": {
      "text/plain": [
       "0.38121435556157335"
      ]
     },
     "execution_count": 27,
     "metadata": {},
     "output_type": "execute_result"
    }
   ],
   "source": [
    "entropyReduction"
   ]
  },
  {
   "cell_type": "code",
   "execution_count": null,
   "metadata": {},
   "outputs": [],
   "source": []
  }
 ],
 "metadata": {
  "kernelspec": {
   "display_name": "Python 3",
   "language": "python",
   "name": "python3"
  },
  "language_info": {
   "codemirror_mode": {
    "name": "ipython",
    "version": 3
   },
   "file_extension": ".py",
   "mimetype": "text/x-python",
   "name": "python",
   "nbconvert_exporter": "python",
   "pygments_lexer": "ipython3",
   "version": "3.10.4"
  },
  "orig_nbformat": 4
 },
 "nbformat": 4,
 "nbformat_minor": 2
}
