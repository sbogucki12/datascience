{
 "cells": [
  {
   "attachments": {},
   "cell_type": "markdown",
   "metadata": {},
   "source": [
    "# Boosting\n",
    "\n",
    "Gradient boosting reduces the bias of a classifier, analogous to the way bagging reduces its variance.\n",
    "\n",
    "## Gradient Boosted Random Trees\n",
    "\n",
    "GBRT combines limited depth CART classifiers into an ensemble. The classifiers are added sequentially to explicitly correct the error (residual) that the current\n",
    "ensemble is still making.\n",
    "\n",
    "Limited depth trees have high bias. GBRT combines many high bias classifiers to create a low bias ensemble.\n",
    "\n",
    "GBRT learns an ensemble of trees, and each tree is trained to correct the residual (the remaining error) of the existing ensemble. \n",
    "\n",
    "Each tree in the GBRT algorithm is built by minimizing the squared difference between the residual of x[i] and the new tree's prediction.\n",
    "\n",
    "For each iteration, we calculate the residual. \n",
    "\n",
    "The residual is the difference between the true label, Y[i], and the current prediction. \n",
    "\n",
    "Every subsequent tree predicts for the residual instead of for the true label. \n",
    "\n",
    "And then add classifer to ensemble. \n",
    "\n",
    "The residual should decrease each iteration. \n",
    "\n",
    "We continue to do this until the residual is zero. \n",
    "\n",
    "For each data point (x[i],y[i]), the tree h[j] trains on the pair (x[i],r[i]), where r[i] is the residual r[i]=y[i]−H(x[i]) between the label and the prediction of the current ensemble classifier.\n",
    " \n",
    "We initialize the ensemble classifier to predict H(x[i])=0 for all inputs. This means that the very first residual is r[i]=y[i] for all inputs.\n",
    "\n",
    "When you add classifiers to the ensemble, you also add a weight (the weight is constant/identical for all trees).\n",
    "\n"
   ]
  }
 ],
 "metadata": {
  "kernelspec": {
   "display_name": "Python 3",
   "language": "python",
   "name": "python3"
  },
  "language_info": {
   "name": "python",
   "version": "3.10.4"
  },
  "orig_nbformat": 4
 },
 "nbformat": 4,
 "nbformat_minor": 2
}
